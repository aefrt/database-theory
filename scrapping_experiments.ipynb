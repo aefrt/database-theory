{
 "cells": [
  {
   "cell_type": "markdown",
   "id": "7ee95395-6005-4200-b83e-c67a43cf274e",
   "metadata": {},
   "source": [
    "### Алгоритмы сбора и анализа текстовых описаний продуктов"
   ]
  },
  {
   "cell_type": "markdown",
   "id": "165de4e7-722f-4d7c-ae20-e16e0cc4b72d",
   "metadata": {},
   "source": [
    "Копчев Владислав, 197"
   ]
  },
  {
   "cell_type": "markdown",
   "id": "49d7e40e-5b3a-4347-b23e-32d124784ab8",
   "metadata": {},
   "source": [
    "### Работа с vons.com"
   ]
  },
  {
   "cell_type": "markdown",
   "id": "25bf7904-ac57-4167-9ce5-6c59444fccad",
   "metadata": {},
   "source": [
    "#### Сбор данных"
   ]
  },
  {
   "cell_type": "code",
   "execution_count": 1,
   "id": "85f04811-bf9d-43a3-b489-639092bddd3e",
   "metadata": {},
   "outputs": [],
   "source": [
    "import requests\n",
    "from bs4 import BeautifulSoup\n",
    "from lxml import etree\n",
    "from io import StringIO, BytesIO\n",
    "from math import ceil\n",
    "import psycopg2\n",
    "import json\n",
    "import pandas as pd\n",
    "import numpy as np"
   ]
  },
  {
   "cell_type": "code",
   "execution_count": 1,
   "id": "0a6b7582-6091-4b5b-8074-8590cafb55b4",
   "metadata": {
    "tags": []
   },
   "outputs": [],
   "source": [
    "parser = etree.HTMLParser()\n",
    "\n",
    "response_cat = requests.get('https://www.vons.com/shop/aisles.2053.html', \n",
    "                            headers = {\n",
    "                                        'accept': 'application/json, text/javascript, */*; q=0.01',\n",
    "                                        'accept-encoding': 'gzip, deflate, br',\n",
    "                                        'accept-language': 'en-US,en;q=0.9',\n",
    "                                        'cache-control': 'no-cache',\n",
    "                                        'pragma': 'no-cache',\n",
    "                                        'referer': 'https://www.vons.com/',\n",
    "                                        'sec-ch-ua': '\" Not A;Brand\";v=\"99\", \"Chromium\";v=\"96\", \"Google Chrome\";v=\"96\"'\n",
    "                                }\n",
    "                           )\n",
    "\n",
    "html_code_cat = response_cat.text\n",
    "tree_cat = etree.parse(StringIO(html_code_cat), parser)\n",
    "\n",
    "categories = tree_cat.xpath('//div[@class=\"col-12 col-sm-12 col-md-4 col-lg-4 col-xl-3\"]')  # 1st level\n",
    "categories_dict = dict()\n",
    "items_dict = dict()\n",
    "\n",
    "categories_df = pd.DataFrame(columns=['Category', 'Category link', 'Subcategory', 'Subcategory link', 'Departament', 'Departament link', 'Item', 'Item link'])\n",
    "items_df = pd.DataFrame(columns=['link', 'title', 'price', 'description', 'specifications', 'brand', 'model', 'upc', 'breadcrumbs'])"
   ]
  },
  {
   "cell_type": "code",
   "execution_count": 12,
   "id": "8cde9ae9-318a-4135-ab84-e91c441c4fbd",
   "metadata": {
    "collapsed": true,
    "jupyter": {
     "outputs_hidden": true
    },
    "tags": []
   },
   "outputs": [
    {
     "name": "stdout",
     "output_type": "stream",
     "text": [
      "400\n",
      "800\n",
      "1200\n",
      "1600\n",
      "2000\n",
      "2400\n",
      "2800\n",
      "3200\n",
      "3600\n",
      "4000\n",
      "4400\n",
      "4800\n",
      "5200\n",
      "5600\n",
      "6000\n",
      "6400\n",
      "6800\n",
      "7200\n",
      "7600\n",
      "8000\n",
      "8400\n",
      "8800\n",
      "9200\n",
      "9600\n",
      "10000\n",
      "10400\n",
      "10800\n",
      "11200\n",
      "11600\n",
      "12000\n",
      "12400\n",
      "12800\n",
      "13200\n",
      "13600\n",
      "14000\n",
      "14400\n",
      "14800\n",
      "15200\n",
      "15600\n",
      "16000\n",
      "16400\n",
      "16800\n",
      "17200\n",
      "17600\n",
      "18000\n",
      "18400\n",
      "18800\n",
      "19200\n",
      "19600\n",
      "20000\n",
      "20400\n",
      "20800\n",
      "21200\n",
      "21600\n",
      "22000\n",
      "22400\n",
      "22800\n",
      "23200\n",
      "23600\n",
      "24000\n",
      "24400\n",
      "24800\n",
      "25200\n",
      "25600\n",
      "26000\n",
      "26400\n",
      "26800\n",
      "27200\n",
      "27600\n",
      "28000\n",
      "28400\n",
      "28800\n",
      "29200\n",
      "29600\n",
      "30000\n",
      "30400\n",
      "30800\n",
      "31200\n",
      "31600\n",
      "32000\n",
      "32400\n",
      "32800\n",
      "33200\n",
      "33600\n",
      "34000\n"
     ]
    }
   ],
   "source": [
    "id = 0\n",
    "\n",
    "for category in categories:\n",
    "    if len(category.xpath('./a/div/h2/text()')) == 0 or len(category.xpath('./a/@href')) == 0:\n",
    "        break\n",
    "    cat_name = category.xpath('./a/div/h2/text()')[0]  # list of 1 element -> 1 this element\n",
    "    cat_link = category.xpath('./a/@href')[0]\n",
    "    categories_dict[cat_name] = cat_link\n",
    "\n",
    "for category in categories_dict.keys():\n",
    "    response_subcat = requests.get('https://www.vons.com' + categories_dict[category])\n",
    "    html_code_subcat = response_subcat.text\n",
    "    tree_subcat = etree.parse(StringIO(html_code_subcat), parser)\n",
    "\n",
    "    subcategories = tree_subcat.xpath('//div[@class=\"categories-item aisle-item \"] | //div[@class=\"categories-item aisle-item hidden-aisle d-none\"]')\n",
    "    subcategories_dict = dict()\n",
    "    \n",
    "    for subcategory in subcategories:\n",
    "        if len(subcategory.xpath('./a/@href')) == 0 or len(subcategory.xpath('./a/@data-aisle-name')) == 0:\n",
    "            break  # see созвон problem\n",
    "        subcat_name = subcategory.xpath('./a/@data-aisle-name')[0]\n",
    "        subcat_link = subcategory.xpath('./a/@href')[0]\n",
    "        subcategories_dict[subcat_name] = subcat_link\n",
    "\n",
    "    for subcategory in subcategories_dict.keys():\n",
    "        response_dep = requests.get('https://www.vons.com' + subcategories_dict[subcategory])\n",
    "        html_code_dep = response_dep.text\n",
    "        tree_dep = etree.parse(StringIO(html_code_dep), parser)\n",
    "        \n",
    "        departaments = tree_dep.xpath('//div[@class=\"aisle-items filter-wrapper less height-auto\"]')\n",
    "        departaments_dict = dict()\n",
    "\n",
    "        for departament in departaments:\n",
    "            if len(departament.xpath('./div/span/a/text()')) == 0 or len(departament.xpath('./div/span/a/@href')) == 0:\n",
    "                break\n",
    "            dep_name = departament.xpath('./div/span/a/text()')[0]\n",
    "            dep_link = departament.xpath('./div/span/a/@href')[0]\n",
    "            departaments_dict[dep_name] = dep_link\n",
    "\n",
    "        for departament in departaments_dict.keys():\n",
    "            response_items = requests.get('https://www.vons.com' + departaments_dict[departament])\n",
    "            html_code_items = response_items.text\n",
    "            tree_items = etree.parse(StringIO(html_code_items), parser)\n",
    "\n",
    "            items_count = int(tree_items.xpath('//span[@class=\"category-count\"]/text()')[0][1:-1])  # to remove brackets\n",
    "            pages_count = ceil(items_count / 30)\n",
    "\n",
    "            for page in range(pages_count):\n",
    "                response_page_items = requests.get('https://www.vons.com' + departaments_dict[departament] + '?sort=&page={}'.format(page + 1))\n",
    "                html_code_page_items = response_page_items.text\n",
    "                tree_page_page_items = etree.parse(StringIO(html_code_page_items), parser)\n",
    "\n",
    "                page_items = tree_page_page_items.xpath('//a[@class=\"product-title\"]')\n",
    "                for page_item in page_items:\n",
    "                    it_name = page_item.xpath('./text()')[0][33:-29]  # to remove spaces\n",
    "                    it_link = page_item.xpath('./@href')[0]\n",
    "                    items_dict[it_name] = it_link\n",
    "                    categories_df = categories_df.append(\n",
    "                        {\n",
    "                            'Category': cat_name,\n",
    "                            'Category link': cat_link,\n",
    "                            'Subcategory': subcat_name,\n",
    "                            'Subcategory link': subcat_link,\n",
    "                            'Departament': dep_name,\n",
    "                            'Departament link': dep_link,\n",
    "                            'Item': it_name,\n",
    "                            'Item link': it_link\n",
    "                        }, ignore_index=True)\n",
    "                    \n",
    "                    id += 1\n",
    "                    if id % 400 == 0:\n",
    "                        print(id)"
   ]
  },
  {
   "cell_type": "code",
   "execution_count": 3,
   "id": "dba7c047-c9d6-4975-9111-03ba78ee9ab8",
   "metadata": {},
   "outputs": [],
   "source": [
    "# categories_df.to_csv('categories.csv')"
   ]
  },
  {
   "cell_type": "code",
   "execution_count": 17,
   "id": "134f1123-0b9b-43b0-a649-0592f13ab148",
   "metadata": {},
   "outputs": [],
   "source": [
    "items = set(pd.read_csv('categories.csv')['Item link'])"
   ]
  },
  {
   "cell_type": "code",
   "execution_count": 18,
   "id": "9ab99898-f9a8-4f6e-8e9c-ef471e9e47f8",
   "metadata": {
    "tags": []
   },
   "outputs": [],
   "source": [
    "items_df = pd.DataFrame(columns=['link', 'title', 'price', 'description', 'specifications', 'brand', 'model', 'upc', 'breadcrumbs'])"
   ]
  },
  {
   "cell_type": "code",
   "execution_count": 19,
   "id": "332c500a-008c-411a-b626-d6a15806c59e",
   "metadata": {
    "tags": []
   },
   "outputs": [
    {
     "name": "stdout",
     "output_type": "stream",
     "text": [
      "15200/23301\n",
      "15600/23301\n",
      "16000/23301\n",
      "16400/23301\n",
      "16800/23301\n",
      "17200/23301\n",
      "17600/23301\n",
      "18000/23301\n",
      "18400/23301\n",
      "18800/23301\n",
      "19200/23301\n",
      "19600/23301\n",
      "20000/23301\n",
      "20400/23301\n",
      "20800/23301\n",
      "21200/23301\n",
      "21600/23301\n",
      "22000/23301\n",
      "22400/23301\n",
      "22800/23301\n"
     ]
    }
   ],
   "source": [
    "id = 0\n",
    "\n",
    "for item in items:\n",
    "    link = 'https://www.vons.com' + item\n",
    "        \n",
    "    resp_item_page = requests.get(link, headers = {\n",
    "                                            'accept': 'application/json, text/javascript, */*; q=0.01',\n",
    "                                            'accept-encoding': 'gzip, deflate, br',\n",
    "                                            'accept-language': 'en-US,en;q=0.9',\n",
    "                                            'cache-control': 'no-cache',\n",
    "                                            'pragma': 'no-cache',\n",
    "                                            'referer': 'https://www.vons.com/',\n",
    "                                            'sec-ch-ua': '\" Not A;Brand\";v=\"99\", \"Chromium\";v=\"96\", \"Google Chrome\";v=\"96\"'\n",
    "                                        })\n",
    "        \n",
    "    html_item_page = resp_item_page.text\n",
    "    tree_item_page = etree.parse(StringIO(html_item_page), parser)\n",
    "    \n",
    "    if len(tree_item_page.xpath('//script[@type=\"application/ld+json\"]/text()')) > 1:  # there are some problems... see how many as diff of tables later\n",
    "        title = tree_item_page.xpath('//title/text()')[0]\n",
    "        price = json.loads(tree_item_page.xpath('//script[@type=\"application/ld+json\"]/text()')[1])['offers']['price'] + '$'\n",
    "        old_price = price\n",
    "        images = tree_item_page.xpath('//picture[@class=\"img-responsive center-block\"]/source/@srcset')\n",
    "        for img in images:\n",
    "            img = 'https:' + img\n",
    "        breadcrumbs = tree_item_page.xpath('//li[@class=\"pdpCrumbs-list\"]/a/text()')\n",
    "        description = tree_item_page.xpath('//div[@class=\"content-detail body-m\"]/div/text()')\n",
    "        promotion_message = tree_item_page.xpath('//p[@id=\"banner-label\"]/text()')\n",
    "        specifications = tree_item_page.xpath('//div[@class=\"col-12 col-sm-12 col-md-6 col-lg-6 col-xl-6 flour body-m\"]/text()')\n",
    "        upc = tree_item_page.xpath('//div[@class=\"container-fluid product-details-wrapper\"]/@data-upc')[0]\n",
    "        brand = json.loads(tree_item_page.xpath('//script[@type=\"application/ld+json\"]/text()')[1])['brand']['name']\n",
    "        model = title.replace(brand + ' ', '')\n",
    "        \n",
    "        items_df = items_df.append({\n",
    "            'link': link,\n",
    "            'title': title,\n",
    "            'price': price,\n",
    "            'breadcrumbs': breadcrumbs,\n",
    "            'description': description,\n",
    "            'specifications': specifications,\n",
    "            'brand': brand,\n",
    "            'model': model,\n",
    "            'upc': upc\n",
    "        }, ignore_index=True)\n",
    "        \n",
    "        id += 1\n",
    "        \n",
    "        if id % 400 == 0:\n",
    "            print(id, '/', len(items), sep='')"
   ]
  },
  {
   "cell_type": "code",
   "execution_count": 20,
   "id": "dd82896e-6eba-4fbe-8e47-62b051862d3d",
   "metadata": {
    "tags": []
   },
   "outputs": [],
   "source": [
    "items_df.to_csv('items.csv')"
   ]
  },
  {
   "cell_type": "markdown",
   "id": "e6b7b3bf-4efc-4b19-a271-00231f742545",
   "metadata": {},
   "source": [
    "#### Кластеризация"
   ]
  },
  {
   "cell_type": "code",
   "execution_count": 876,
   "id": "7cfbaa9c-8c71-42b1-914d-d75b00f8c757",
   "metadata": {},
   "outputs": [],
   "source": [
    "from sklearn.datasets import fetch_20newsgroups\n",
    "from sentence_transformers import SentenceTransformer\n",
    "import hdbscan\n",
    "import umap\n",
    "import matplotlib.pyplot as plt\n",
    "import pandas as pd"
   ]
  },
  {
   "cell_type": "code",
   "execution_count": 877,
   "id": "ece174da-f3c4-4715-9272-2d5e988b4ee0",
   "metadata": {
    "tags": []
   },
   "outputs": [],
   "source": [
    "model = SentenceTransformer('distilbert-base-nli-mean-tokens')\n",
    "data_df = pd.read_csv('items.csv')\n",
    "data = list(pd.read_csv('items.csv')['description'])"
   ]
  },
  {
   "cell_type": "code",
   "execution_count": 878,
   "id": "8e301024-d1e1-4c47-8c32-1748af2c656c",
   "metadata": {},
   "outputs": [],
   "source": [
    "embeddings = np.loadtxt('emb.txt')"
   ]
  },
  {
   "cell_type": "code",
   "execution_count": 999,
   "id": "82590c78-1529-419e-9a75-74795bb5fb30",
   "metadata": {},
   "outputs": [],
   "source": [
    "umap_embeddings = umap.UMAP(n_neighbors=15, \n",
    "                            n_components=2, \n",
    "                         metric='cosine').fit_transform(embeddings)"
   ]
  },
  {
   "cell_type": "code",
   "execution_count": 1000,
   "id": "13fd2601-0f25-4429-af6a-94b2919f12ee",
   "metadata": {},
   "outputs": [],
   "source": [
    "cluster = hdbscan.HDBSCAN(min_cluster_size=15,\n",
    "                            metric='euclidean',                      \n",
    "                            cluster_selection_method='eom',\n",
    "                            prediction_data=True).fit(umap_embeddings)"
   ]
  },
  {
   "cell_type": "code",
   "execution_count": 1001,
   "id": "35f0691a-f419-409f-bd00-74181d40d9da",
   "metadata": {
    "tags": []
   },
   "outputs": [],
   "source": [
    "umap_data = umap.UMAP(n_neighbors=15, n_components=2, min_dist=0.0, metric='cosine').fit_transform(embeddings)\n",
    "result = pd.DataFrame(umap_data, columns=['x', 'y'])\n",
    "result['labels'] = cluster.labels_"
   ]
  },
  {
   "cell_type": "code",
   "execution_count": 1002,
   "id": "d2443b40-6626-4caf-9d02-2b7bc56b126f",
   "metadata": {
    "tags": []
   },
   "outputs": [
    {
     "data": {
      "text/plain": [
       "<matplotlib.colorbar.Colorbar at 0x7fdf499a0040>"
      ]
     },
     "execution_count": 1002,
     "metadata": {},
     "output_type": "execute_result"
    },
    {
     "data": {
      "image/png": "[encoded data removed]",
      "text/plain": [
       "<Figure size 1440x720 with 2 Axes>"
      ]
     },
     "metadata": {
      "needs_background": "light"
     },
     "output_type": "display_data"
    }
   ],
   "source": [
    "fig, ax = plt.subplots(figsize=(20, 10))\n",
    "outliers = result.loc[result.labels == -1, :]\n",
    "clustered = result.loc[result.labels != -1, :]\n",
    "plt.scatter(outliers.x, outliers.y, color='#BDBDBD', s=0.05)\n",
    "plt.scatter(clustered.x, clustered.y, c=clustered.labels, s=0.05, cmap='hsv_r')\n",
    "plt.colorbar()"
   ]
  },
  {
   "cell_type": "code",
   "execution_count": 1003,
   "id": "52224bb8-9445-4830-bc65-1556784bcaed",
   "metadata": {},
   "outputs": [
    {
     "data": {
      "text/html": [
       "<div>\n",
       "<style scoped>\n",
       "    .dataframe tbody tr th:only-of-type {\n",
       "        vertical-align: middle;\n",
       "    }\n",
       "\n",
       "    .dataframe tbody tr th {\n",
       "        vertical-align: top;\n",
       "    }\n",
       "\n",
       "    .dataframe thead th {\n",
       "        text-align: right;\n",
       "    }\n",
       "</style>\n",
       "<table border=\"1\" class=\"dataframe\">\n",
       "  <thead>\n",
       "    <tr style=\"text-align: right;\">\n",
       "      <th></th>\n",
       "      <th>Topic</th>\n",
       "      <th>Doc</th>\n",
       "    </tr>\n",
       "  </thead>\n",
       "  <tbody>\n",
       "    <tr>\n",
       "      <th>0</th>\n",
       "      <td>-1</td>\n",
       "      <td>['\\n                                Flour, Who...</td>\n",
       "    </tr>\n",
       "    <tr>\n",
       "      <th>1</th>\n",
       "      <td>0</td>\n",
       "      <td>['\\n                                Garlic Bas...</td>\n",
       "    </tr>\n",
       "    <tr>\n",
       "      <th>2</th>\n",
       "      <td>1</td>\n",
       "      <td>['\\n                                Bakery Cak...</td>\n",
       "    </tr>\n",
       "    <tr>\n",
       "      <th>3</th>\n",
       "      <td>2</td>\n",
       "      <td>['\\n                                Candy, Ass...</td>\n",
       "    </tr>\n",
       "    <tr>\n",
       "      <th>4</th>\n",
       "      <td>3</td>\n",
       "      <td>['\\n                                Energy Dri...</td>\n",
       "    </tr>\n",
       "    <tr>\n",
       "      <th>...</th>\n",
       "      <td>...</td>\n",
       "      <td>...</td>\n",
       "    </tr>\n",
       "    <tr>\n",
       "      <th>274</th>\n",
       "      <td>273</td>\n",
       "      <td>['\\n                                Beef &amp; Bro...</td>\n",
       "    </tr>\n",
       "    <tr>\n",
       "      <th>275</th>\n",
       "      <td>274</td>\n",
       "      <td>['\\n                                Extra Long...</td>\n",
       "    </tr>\n",
       "    <tr>\n",
       "      <th>276</th>\n",
       "      <td>275</td>\n",
       "      <td>['\\n                                Chicken, S...</td>\n",
       "    </tr>\n",
       "    <tr>\n",
       "      <th>277</th>\n",
       "      <td>276</td>\n",
       "      <td>['\\n                                Vegetarian...</td>\n",
       "    </tr>\n",
       "    <tr>\n",
       "      <th>278</th>\n",
       "      <td>277</td>\n",
       "      <td>['\\n                                Black Pepp...</td>\n",
       "    </tr>\n",
       "  </tbody>\n",
       "</table>\n",
       "<p>279 rows × 2 columns</p>\n",
       "</div>"
      ],
      "text/plain": [
       "     Topic                                                Doc\n",
       "0       -1  ['\\n                                Flour, Who...\n",
       "1        0  ['\\n                                Garlic Bas...\n",
       "2        1  ['\\n                                Bakery Cak...\n",
       "3        2  ['\\n                                Candy, Ass...\n",
       "4        3  ['\\n                                Energy Dri...\n",
       "..     ...                                                ...\n",
       "274    273  ['\\n                                Beef & Bro...\n",
       "275    274  ['\\n                                Extra Long...\n",
       "276    275  ['\\n                                Chicken, S...\n",
       "277    276  ['\\n                                Vegetarian...\n",
       "278    277  ['\\n                                Black Pepp...\n",
       "\n",
       "[279 rows x 2 columns]"
      ]
     },
     "execution_count": 1003,
     "metadata": {},
     "output_type": "execute_result"
    }
   ],
   "source": [
    "docs_df = pd.DataFrame(data, columns=[\"Doc\"])\n",
    "docs_df['Topic'] = cluster.labels_\n",
    "docs_df['Doc_ID'] = range(len(docs_df))\n",
    "docs_per_topic = docs_df.groupby(['Topic'], as_index = False).agg({'Doc': ' '.join})\n",
    "\n",
    "docs_per_topic.loc[1, 'Doc'] = docs_per_topic.loc[docs_per_topic.shape[0] - 1, 'Doc']\n",
    "docs_per_topic = docs_per_topic.drop([docs_per_topic.shape[0] - 1])\n",
    "\n",
    "docs_per_topic"
   ]
  },
  {
   "cell_type": "code",
   "execution_count": 1004,
   "id": "f3037577-eb2b-48e9-958d-a68397c90dfb",
   "metadata": {},
   "outputs": [],
   "source": [
    "from sklearn.feature_extraction.text import CountVectorizer\n",
    "\n",
    "def c_tf_idf(documents, m, ngram_range=(1, 1)):\n",
    "    count = CountVectorizer(ngram_range=ngram_range, stop_words=\"english\").fit(documents)\n",
    "    t = count.transform(documents).toarray()\n",
    "    w = t.sum(axis=1)\n",
    "    tf = np.divide(t.T, w)\n",
    "    sum_t = t.sum(axis=0)\n",
    "    idf = np.log(np.divide(m, sum_t)).reshape(-1, 1)\n",
    "    tf_idf = np.multiply(tf, idf)\n",
    "\n",
    "    return tf_idf, count\n",
    "  \n",
    "tf_idf, count = c_tf_idf(docs_per_topic.Doc.values, m=len(data))"
   ]
  },
  {
   "cell_type": "code",
   "execution_count": 1005,
   "id": "ce2752dd-7fe4-40c5-8059-57d660e8d352",
   "metadata": {},
   "outputs": [
    {
     "data": {
      "text/html": [
       "<div>\n",
       "<style scoped>\n",
       "    .dataframe tbody tr th:only-of-type {\n",
       "        vertical-align: middle;\n",
       "    }\n",
       "\n",
       "    .dataframe tbody tr th {\n",
       "        vertical-align: top;\n",
       "    }\n",
       "\n",
       "    .dataframe thead th {\n",
       "        text-align: right;\n",
       "    }\n",
       "</style>\n",
       "<table border=\"1\" class=\"dataframe\">\n",
       "  <thead>\n",
       "    <tr style=\"text-align: right;\">\n",
       "      <th></th>\n",
       "      <th>Topic</th>\n",
       "      <th>Size</th>\n",
       "    </tr>\n",
       "  </thead>\n",
       "  <tbody>\n",
       "    <tr>\n",
       "      <th>0</th>\n",
       "      <td>-1</td>\n",
       "      <td>7520</td>\n",
       "    </tr>\n",
       "    <tr>\n",
       "      <th>1</th>\n",
       "      <td>0</td>\n",
       "      <td>1842</td>\n",
       "    </tr>\n",
       "    <tr>\n",
       "      <th>90</th>\n",
       "      <td>89</td>\n",
       "      <td>456</td>\n",
       "    </tr>\n",
       "    <tr>\n",
       "      <th>19</th>\n",
       "      <td>18</td>\n",
       "      <td>304</td>\n",
       "    </tr>\n",
       "    <tr>\n",
       "      <th>211</th>\n",
       "      <td>210</td>\n",
       "      <td>245</td>\n",
       "    </tr>\n",
       "    <tr>\n",
       "      <th>64</th>\n",
       "      <td>63</td>\n",
       "      <td>215</td>\n",
       "    </tr>\n",
       "    <tr>\n",
       "      <th>274</th>\n",
       "      <td>273</td>\n",
       "      <td>195</td>\n",
       "    </tr>\n",
       "    <tr>\n",
       "      <th>279</th>\n",
       "      <td>278</td>\n",
       "      <td>195</td>\n",
       "    </tr>\n",
       "    <tr>\n",
       "      <th>168</th>\n",
       "      <td>167</td>\n",
       "      <td>194</td>\n",
       "    </tr>\n",
       "    <tr>\n",
       "      <th>256</th>\n",
       "      <td>255</td>\n",
       "      <td>192</td>\n",
       "    </tr>\n",
       "  </tbody>\n",
       "</table>\n",
       "</div>"
      ],
      "text/plain": [
       "     Topic  Size\n",
       "0       -1  7520\n",
       "1        0  1842\n",
       "90      89   456\n",
       "19      18   304\n",
       "211    210   245\n",
       "64      63   215\n",
       "274    273   195\n",
       "279    278   195\n",
       "168    167   194\n",
       "256    255   192"
      ]
     },
     "execution_count": 1005,
     "metadata": {},
     "output_type": "execute_result"
    }
   ],
   "source": [
    "def extract_top_n_words_per_topic(tf_idf, count, docs_per_topic, n=20):\n",
    "    words = count.get_feature_names()\n",
    "    labels = list(docs_per_topic.Topic)\n",
    "    tf_idf_transposed = tf_idf.T\n",
    "    indices = tf_idf_transposed.argsort()[:, -n:]\n",
    "    top_n_words = {label: [(words[j], tf_idf_transposed[i][j]) for j in indices[i]][::-1] for i, label in enumerate(labels)}\n",
    "    return top_n_words\n",
    "\n",
    "def extract_topic_sizes(df):\n",
    "    topic_sizes = (df.groupby(['Topic'])\n",
    "                     .Doc\n",
    "                     .count()\n",
    "                     .reset_index()\n",
    "                     .rename({\"Topic\": \"Topic\", \"Doc\": \"Size\"}, axis='columns')\n",
    "                     .sort_values(\"Size\", ascending=False))\n",
    "    return topic_sizes\n",
    "\n",
    "top_n_words = extract_top_n_words_per_topic(tf_idf, count, docs_per_topic, n=20)\n",
    "topic_sizes = extract_topic_sizes(docs_df); topic_sizes.head(10)"
   ]
  },
  {
   "cell_type": "code",
   "execution_count": 1006,
   "id": "26cf26ea-78d1-4eca-94b7-94fc2ee9a64c",
   "metadata": {},
   "outputs": [
    {
     "data": {
      "text/plain": [
       "280"
      ]
     },
     "execution_count": 1006,
     "metadata": {},
     "output_type": "execute_result"
    }
   ],
   "source": [
    "topic_sizes['Topic'].size"
   ]
  },
  {
   "cell_type": "code",
   "execution_count": 1007,
   "id": "f6dd2a36-397f-4530-b12e-f5d81089fa1d",
   "metadata": {},
   "outputs": [
    {
     "data": {
      "text/plain": [
       "[('free', 0.006193839714209225),\n",
       " ('questions', 0.006035623731862958),\n",
       " ('gluten', 0.005936865025345209),\n",
       " ('800', 0.005933341707970102),\n",
       " ('natural', 0.005756581502571135),\n",
       " ('organic', 0.005719071326378803),\n",
       " ('visit', 0.005669740357789708),\n",
       " ('certified', 0.005609348534259401),\n",
       " ('non', 0.0055004850084320045),\n",
       " ('serving', 0.005473624694134958)]"
      ]
     },
     "execution_count": 1007,
     "metadata": {},
     "output_type": "execute_result"
    }
   ],
   "source": [
    "top_n_words[-1][:10]"
   ]
  },
  {
   "cell_type": "code",
   "execution_count": 1008,
   "id": "b057b6fd-fa89-45bb-9bf2-2c959ca72ce8",
   "metadata": {},
   "outputs": [
    {
     "data": {
      "text/plain": [
       "[('sauce', 0.039297119605523415),\n",
       " ('garlic', 0.03615617899074326),\n",
       " ('flavor', 0.021081170026157253),\n",
       " ('pepper', 0.01721232075936203),\n",
       " ('salad', 0.017110641619946788),\n",
       " ('recipes', 0.0168911639561351),\n",
       " ('chili', 0.016058214267256083),\n",
       " ('peppers', 0.01566790651938805),\n",
       " ('pasta', 0.015402048398694955),\n",
       " ('sense', 0.015284891053165679)]"
      ]
     },
     "execution_count": 1008,
     "metadata": {},
     "output_type": "execute_result"
    }
   ],
   "source": [
    "top_n_words[0][:10]"
   ]
  },
  {
   "cell_type": "code",
   "execution_count": 1009,
   "id": "cbb8432d-af73-451d-a3fc-17e463156123",
   "metadata": {},
   "outputs": [
    {
     "data": {
      "text/plain": [
       "[('cake', 0.16870765306064298),\n",
       " ('chocolate', 0.1514206456367216),\n",
       " ('cookies', 0.13878088807653186),\n",
       " ('count', 0.11020388743981879),\n",
       " ('frosted', 0.09314329674180821),\n",
       " ('chip', 0.09060860337415211),\n",
       " ('brownie', 0.08745257591942099),\n",
       " ('ring', 0.0848106070342565),\n",
       " ('swirls', 0.08388425738233496),\n",
       " ('mousse', 0.0800669867629452)]"
      ]
     },
     "execution_count": 1009,
     "metadata": {},
     "output_type": "execute_result"
    }
   ],
   "source": [
    "top_n_words[99][:10]"
   ]
  },
  {
   "cell_type": "code",
   "execution_count": 1010,
   "id": "a3e5d01b-1718-466f-b3a4-12088a50d467",
   "metadata": {},
   "outputs": [
    {
     "data": {
      "text/plain": [
       "[('juice', 0.1583517595753971),\n",
       " ('7799', 0.1135426341655426),\n",
       " ('237', 0.10931549778851536),\n",
       " ('orange', 0.10854744537115171),\n",
       " ('concentrate', 0.10389793224651085),\n",
       " ('tropicana', 0.09543142132519969),\n",
       " ('brazil', 0.0918146463582313),\n",
       " ('pulp', 0.08810259058418826),\n",
       " ('pasteurized', 0.059123930899865555),\n",
       " ('contains', 0.04735920607437663)]"
      ]
     },
     "execution_count": 1010,
     "metadata": {},
     "output_type": "execute_result"
    }
   ],
   "source": [
    "top_n_words[213][:10]"
   ]
  },
  {
   "cell_type": "code",
   "execution_count": 1011,
   "id": "c5a2d0f5-3b2b-4011-8c28-77086c03907e",
   "metadata": {},
   "outputs": [
    {
     "data": {
      "text/plain": [
       "[('nonstick', 0.14411607982863872),\n",
       " ('china', 0.11844878420818934),\n",
       " ('durable', 0.10787735516375946),\n",
       " ('safe', 0.09454496743189827),\n",
       " ('dishwasher', 0.08776822165663124),\n",
       " ('heat', 0.08205592850317578),\n",
       " ('inch', 0.0812899204608053),\n",
       " ('construction', 0.080753752540652),\n",
       " ('goodcook', 0.0787171327659945),\n",
       " ('pan', 0.06904150730480604)]"
      ]
     },
     "execution_count": 1011,
     "metadata": {},
     "output_type": "execute_result"
    }
   ],
   "source": [
    "top_n_words[50][:10]"
   ]
  },
  {
   "cell_type": "code",
   "execution_count": 1012,
   "id": "7d93360a-ee09-4451-ac12-d43a15c3976e",
   "metadata": {},
   "outputs": [
    {
     "data": {
      "text/plain": [
       "(280, 2)"
      ]
     },
     "execution_count": 1012,
     "metadata": {},
     "output_type": "execute_result"
    }
   ],
   "source": [
    "topic_sizes.shape"
   ]
  },
  {
   "cell_type": "markdown",
   "id": "4efc0272-0e4f-429f-bc94-868e1765d463",
   "metadata": {},
   "source": [
    "#### Рекомендательная система"
   ]
  },
  {
   "cell_type": "code",
   "execution_count": 1013,
   "id": "d16fdbcd-57aa-4ee4-aaab-5c282520935f",
   "metadata": {},
   "outputs": [],
   "source": [
    "test_points = [\"Wholesome snacks: popcorner's delicious popped corn snacks are drizzled in sunflower oil with a pinch of sea salt, our chips are never fried. No gluten, no nuts. Just simple ingredients for better flavor\"]\n",
    "\n",
    "# https://www.amazon.com/Popcorners-Snacks-Gluten-flavor-Variety/dp/B08D7JM1X2/ref=sr_1_2?crid=1HNJAW9GVP9PQ&keywords=cips&qid=1654342491&sprefix=cip%2Caps%2C167&sr=8-2&th=1"
   ]
  },
  {
   "cell_type": "code",
   "execution_count": 1014,
   "id": "447169c6-6c75-425f-829e-35fafa733ba4",
   "metadata": {},
   "outputs": [
    {
     "data": {
      "application/vnd.jupyter.widget-view+json": {
       "model_id": "f7567891f3564013b562336057b58d7e",
       "version_major": 2,
       "version_minor": 0
      },
      "text/plain": [
       "Batches:   0%|          | 0/1 [00:00<?, ?it/s]"
      ]
     },
     "metadata": {},
     "output_type": "display_data"
    }
   ],
   "source": [
    "test_embeddings = model.encode(test_points, show_progress_bar=True)"
   ]
  },
  {
   "cell_type": "code",
   "execution_count": 1015,
   "id": "88fd2baf-7ec2-4b9c-bcc7-2609c418d41c",
   "metadata": {},
   "outputs": [],
   "source": [
    "test_embeddings = umap.UMAP(n_neighbors=15, \n",
    "        n_components=2, \n",
    "        metric='cosine').fit_transform(test_embeddings)"
   ]
  },
  {
   "cell_type": "code",
   "execution_count": 1016,
   "id": "f3f6be9a-2f88-40a2-a5d2-634fad2d3cc6",
   "metadata": {},
   "outputs": [],
   "source": [
    "test_labels, strengths = hdbscan.approximate_predict(cluster, test_embeddings)"
   ]
  },
  {
   "cell_type": "code",
   "execution_count": 1017,
   "id": "15e6416c-ff34-4daf-8a87-1f630332484e",
   "metadata": {},
   "outputs": [
    {
     "data": {
      "text/plain": [
       "array([5], dtype=int32)"
      ]
     },
     "execution_count": 1017,
     "metadata": {},
     "output_type": "execute_result"
    }
   ],
   "source": [
    "test_labels"
   ]
  },
  {
   "cell_type": "code",
   "execution_count": 1018,
   "id": "7721f51e-6141-4502-bb85-7a481799646f",
   "metadata": {},
   "outputs": [
    {
     "data": {
      "text/plain": [
       "[('free', 0.006193839714209225),\n",
       " ('questions', 0.006035623731862958),\n",
       " ('gluten', 0.005936865025345209),\n",
       " ('800', 0.005933341707970102),\n",
       " ('natural', 0.005756581502571135),\n",
       " ('organic', 0.005719071326378803),\n",
       " ('visit', 0.005669740357789708),\n",
       " ('certified', 0.005609348534259401),\n",
       " ('non', 0.0055004850084320045),\n",
       " ('serving', 0.005473624694134958)]"
      ]
     },
     "execution_count": 1018,
     "metadata": {},
     "output_type": "execute_result"
    }
   ],
   "source": [
    "top_n_words[-1][:10]"
   ]
  },
  {
   "cell_type": "code",
   "execution_count": 1019,
   "id": "ebbbc019-01e2-413b-a0fa-76b2f6052486",
   "metadata": {
    "tags": []
   },
   "outputs": [
    {
     "data": {
      "text/plain": [
       "1587     https://www.vons.com/shop/product-details.9600...\n",
       "2267     https://www.vons.com/shop/product-details.9600...\n",
       "3090     https://www.vons.com/shop/product-details.9600...\n",
       "5142     https://www.vons.com/shop/product-details.9600...\n",
       "5435     https://www.vons.com/shop/product-details.1050...\n",
       "9392     https://www.vons.com/shop/product-details.1050...\n",
       "10554    https://www.vons.com/shop/product-details.9600...\n",
       "11470    https://www.vons.com/shop/product-details.9600...\n",
       "13497    https://www.vons.com/shop/product-details.1050...\n",
       "14173    https://www.vons.com/shop/product-details.1050...\n",
       "16061    https://www.vons.com/shop/product-details.9600...\n",
       "17051    https://www.vons.com/shop/product-details.9600...\n",
       "17389    https://www.vons.com/shop/product-details.9600...\n",
       "18445    https://www.vons.com/shop/product-details.9600...\n",
       "19360    https://www.vons.com/shop/product-details.9600...\n",
       "19572    https://www.vons.com/shop/product-details.1050...\n",
       "20457    https://www.vons.com/shop/product-details.9600...\n",
       "20809    https://www.vons.com/shop/product-details.9600...\n",
       "Name: link, dtype: object"
      ]
     },
     "execution_count": 1019,
     "metadata": {},
     "output_type": "execute_result"
    }
   ],
   "source": [
    "ind = docs_df.loc[docs_df['Topic'] == test_labels[0], 'Doc'].index\n",
    "data_df.loc[ind, 'link']"
   ]
  },
  {
   "cell_type": "code",
   "execution_count": 1020,
   "id": "b838db35-0458-4a24-a7c6-1dc67934f1db",
   "metadata": {},
   "outputs": [
    {
     "data": {
      "application/vnd.jupyter.widget-view+json": {
       "model_id": "17e2e5091a064cdcb5d469db3f3a44cf",
       "version_major": 2,
       "version_minor": 0
      },
      "text/plain": [
       "Batches:   0%|          | 0/1 [00:00<?, ?it/s]"
      ]
     },
     "metadata": {},
     "output_type": "display_data"
    },
    {
     "data": {
      "text/plain": [
       "[('florida', 0.23818733921845478),\n",
       " ('juice', 0.12086217876607155),\n",
       " ('heinz', 0.09674204697894863),\n",
       " ('orange', 0.0901729267416041),\n",
       " ('ketchup', 0.08155329091032834),\n",
       " ('floridasnatural', 0.07347140133215149),\n",
       " ('6600', 0.07347140133215149),\n",
       " ('oranges', 0.06645017348665587),\n",
       " ('657', 0.06416052361638346),\n",
       " ('bask', 0.05814961608506811)]"
      ]
     },
     "execution_count": 1020,
     "metadata": {},
     "output_type": "execute_result"
    }
   ],
   "source": [
    "test_points2 = [\"NESPRESSO VERTUOLINE VARIETY PACK ASSORTMENT: This Nespresso coffee assortment offers 30 Nespresso Pods in a variety of 3 best-selling coffee blends for the Nespresso VertuoLine System.10 Stormio, 10 Odacio, 10 Melozio. INTENSITY: This assortment will let you explore the rich tastes of the following Nespresso Capsules: Stormio (Intensity 8), Odacio (Intensity 7) and Melozio (Intensity 6). It's the perfect choice to discover a distinctive range of extraordinary coffees. COFFEE BREWS 7.77 OZ : These Nespresso VertuoLine pods provide you with a 7.77 oz serving of coffee which is perfect for a longer drinking experience\"]\n",
    "# https://www.amazon.com/Nespresso-Vertuoline-Seller-Assortment-Count/dp/B01N05APQY/ref=lp_16310101_1_2\n",
    "\n",
    "test_embeddings2 = model.encode(test_points2, show_progress_bar=True)\n",
    "test_embeddings2 = umap.UMAP(n_neighbors=15, \n",
    "        n_components=2, \n",
    "        metric='cosine').fit_transform(test_embeddings2)\n",
    "test_labels2, strengths = hdbscan.approximate_predict(cluster, test_embeddings2)\n",
    "top_n_words[test_labels2[0]][:10]"
   ]
  }
 ],
 "metadata": {
  "kernelspec": {
   "display_name": "Python 3",
   "language": "python",
   "name": "python3"
  },
  "language_info": {
   "codemirror_mode": {
    "name": "ipython",
    "version": 3
   },
   "file_extension": ".py",
   "mimetype": "text/x-python",
   "name": "python",
   "nbconvert_exporter": "python",
   "pygments_lexer": "ipython3",
   "version": "3.9.5"
  }
 },
 "nbformat": 4,
 "nbformat_minor": 5
}
